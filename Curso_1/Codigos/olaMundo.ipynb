{
 "cells": [
  {
   "cell_type": "code",
   "execution_count": 1,
   "metadata": {},
   "outputs": [
    {
     "name": "stdout",
     "output_type": "stream",
     "text": [
      "Hello World!!!\n"
     ]
    }
   ],
   "source": [
    "print(\"Hello World!!!\")"
   ]
  },
  {
   "cell_type": "code",
   "execution_count": 2,
   "metadata": {},
   "outputs": [
    {
     "name": "stdout",
     "output_type": "stream",
     "text": [
      "Escola de dados da Alura!\n"
     ]
    }
   ],
   "source": [
    "print('Escola de dados da Alura!')"
   ]
  },
  {
   "cell_type": "code",
   "execution_count": 10,
   "metadata": {},
   "outputs": [
    {
     "name": "stdout",
     "output_type": "stream",
     "text": [
      "L\n",
      "E\n",
      "O\n",
      "N\n",
      "A\n",
      "R\n",
      "D\n",
      "O\n",
      " \n",
      "R\n",
      "I\n",
      "B\n",
      "E\n",
      "I\n",
      "R\n",
      "O\n"
     ]
    }
   ],
   "source": [
    "nome = 'Leonardo'\n",
    "sobrenome = 'Ribeiro'\n",
    "nome_completo = nome + \" \" + sobrenome\n",
    "\n",
    "for letra in nome_completo:\n",
    "    print(letra.upper())"
   ]
  },
  {
   "cell_type": "code",
   "execution_count": 26,
   "metadata": {},
   "outputs": [
    {
     "name": "stdout",
     "output_type": "stream",
     "text": [
      "Data do aniversario: 11 Outubro 1999\n"
     ]
    }
   ],
   "source": [
    "dia = 11\n",
    "mes = 'Outubro'\n",
    "ano = 1999\n",
    "data = str(dia) + ' ' + mes + ' ' + str(ano)\n",
    "print('Data do aniversario: ' + data) "
   ]
  },
  {
   "cell_type": "code",
   "execution_count": 27,
   "metadata": {},
   "outputs": [
    {
     "name": "stdout",
     "output_type": "stream",
     "text": [
      "Ano Atual: 2023\n"
     ]
    }
   ],
   "source": [
    "anoAtual = 2023\n",
    "\n",
    "print('Ano Atual: '+ str(anoAtual))"
   ]
  }
 ],
 "metadata": {
  "kernelspec": {
   "display_name": "Python 3",
   "language": "python",
   "name": "python3"
  },
  "language_info": {
   "codemirror_mode": {
    "name": "ipython",
    "version": 3
   },
   "file_extension": ".py",
   "mimetype": "text/x-python",
   "name": "python",
   "nbconvert_exporter": "python",
   "pygments_lexer": "ipython3",
   "version": "3.11.2"
  },
  "orig_nbformat": 4
 },
 "nbformat": 4,
 "nbformat_minor": 2
}
